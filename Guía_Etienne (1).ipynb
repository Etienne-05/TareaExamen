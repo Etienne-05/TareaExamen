{
  "nbformat": 4,
  "nbformat_minor": 0,
  "metadata": {
    "colab": {
      "name": "Guía Etienne.ipynb",
      "provenance": []
    },
    "kernelspec": {
      "name": "python3",
      "display_name": "Python 3"
    }
  },
  "cells": [
    {
      "cell_type": "markdown",
      "metadata": {
        "id": "loLafEX3821_"
      },
      "source": [
        "P1:"
      ]
    },
    {
      "cell_type": "code",
      "metadata": {
        "id": "OSkjPHZ_70DL",
        "outputId": "0a3c8d5a-4037-4fe7-91d5-ad0ee95f5c93",
        "colab": {
          "base_uri": "https://localhost:8080/"
        }
      },
      "source": [
        "num= int(input(\"Introduce un número:\"))\n",
        "print (type(num))\n",
        "if num%2 == 0:\n",
        "      print (\"Este es un número par\")\n",
        "else:\n",
        "        print (\"Este es un número impar\")"
      ],
      "execution_count": 9,
      "outputs": [
        {
          "output_type": "stream",
          "text": [
            "Introduce un número:13\n",
            "<class 'int'>\n",
            "Este es un número impar\n"
          ],
          "name": "stdout"
        }
      ]
    },
    {
      "cell_type": "markdown",
      "metadata": {
        "id": "jSGRUl3y-qVu"
      },
      "source": [
        "P2\n"
      ]
    },
    {
      "cell_type": "code",
      "metadata": {
        "id": "An9JeqGe-sMy"
      },
      "source": [
        "a=int(input(\"Agrega un número:\"))\n",
        "caracter=input(\"Agregue la oración:\")\n",
        "contador=0\n",
        "while contador<=a:\n",
        "    contador=contador+1\n",
        "    print(caracter)\n",
        "    print(\"Repetición completa\")\n",
        "    "
      ],
      "execution_count": null,
      "outputs": []
    },
    {
      "cell_type": "markdown",
      "metadata": {
        "id": "lnGWmHSZ_ff0"
      },
      "source": [
        "P3"
      ]
    },
    {
      "cell_type": "code",
      "metadata": {
        "id": "8x5iP7af_gZ7"
      },
      "source": [
        "H=int(input(\"Horas trabajadas\"))\n",
        "C=int(150)\n",
        "día=print(\"Un día:\",H*C, \"Pesos\")\n",
        "semana=print(\"Una seman\", H*C*5, \"Pesos\")\n",
        "mes=print(\"En un mes\", H*C*20, \"Pesos\")\n"
      ],
      "execution_count": null,
      "outputs": []
    },
    {
      "cell_type": "markdown",
      "metadata": {
        "id": "wBW__vZoANMR"
      },
      "source": [
        "P4"
      ]
    },
    {
      "cell_type": "code",
      "metadata": {
        "id": "YsNfADtFAOR3"
      },
      "source": [
        "print (\"Calculadora\")\n",
        "print(\"Menu\")\n",
        "reslt=\"\"\n",
        "while reslt!=\"no\":\n",
        "    Menu=['1)suma','2)resta','3)multi','4)div']\n",
        "    print(Menu)\n",
        "    print(\"Elige una operación\")\n",
        "    Menu=int(input())\n",
        "    while Menu<=5:\n",
        "        print(\"Elige una opción\")\n",
        "        Menu=int(input())\n",
        "        print(\"operación finalizada\")"
      ],
      "execution_count": null,
      "outputs": []
    },
    {
      "cell_type": "markdown",
      "metadata": {
        "id": "9NhU2iO-CFyB"
      },
      "source": [
        "P5"
      ]
    },
    {
      "cell_type": "code",
      "metadata": {
        "id": "WMiTy4d6Et36"
      },
      "source": [
        "print(\"peso de los juguetes\")\n",
        "payaso=150\n",
        "mesa=170\n",
        "total=100000\n",
        "while total>10000:\n",
        "    print(\"ingresa el número de payasos:\")\n",
        "    p=int(input())\n",
        "    print(\"ingresa el número de juegos de mesa:\")\n",
        "    m=int(input())\n",
        "    total=(((payaso*p)+(mesa*m)))\n",
        "    print(\"El peso total es:\", total )\n",
        "    if total>=10000:\n",
        "      print(total<10000)\n",
        "      Residuo=print(\"Desfasado por:\", total-10000)\n"
      ],
      "execution_count": null,
      "outputs": []
    },
    {
      "cell_type": "markdown",
      "metadata": {
        "id": "cx9UJbWFHOv2"
      },
      "source": [
        "P6"
      ]
    },
    {
      "cell_type": "code",
      "metadata": {
        "id": "V_krXW3DHRFt",
        "outputId": "3800a81c-21b0-4f56-8d7b-e94b9b6f6a82",
        "colab": {
          "base_uri": "https://localhost:8080/"
        }
      },
      "source": [
        "print(\"Ingrese el salario:\")\n",
        "Salario=int(input())\n",
        "if Salario<=10000:\n",
        "    print(\"Impuesto de 5%\")\n",
        "    Desc=(Salario*0.5)\n",
        "    Ssaldo=(Salario-Desc)\n",
        "    print(\"El salario queda en:\", Saldo)\n",
        "    print(Salario<=10000)\n",
        "elif Salario<=15000:\n",
        "  print(\"Impuesto de 10%\")\n",
        "  Desc=(Salario*0.1)\n",
        "  Saldo=(Salario-Desc)\n",
        "  print(\"El salario queda en:\", Saldo)\n",
        "  print(Salario<=15000)\n",
        "elif Salario<=20000:\n",
        "    print(\"Impuesto de 15%\")\n",
        "    Desc=(Salario*0.15)\n",
        "    Ssaldo=(Salario-Desc)\n",
        "    print(\"El salario queda en:\", Saldo)\n",
        "    print(Salario<=20000)\n",
        "elif Salario>20000:\n",
        "  print(\"Impuesto de 18%\")\n",
        "  Desc=(Salario*0.18)\n",
        "  Ssaldo=(Salario-Desc)\n",
        "  print(\"El salario queda en:\", Ssaldo)\n",
        "  print(Salario>20000)\n",
        "  print(\"Buen día\")"
      ],
      "execution_count": 35,
      "outputs": [
        {
          "output_type": "stream",
          "text": [
            "Ingrese el salario:\n",
            "20001\n",
            "Impuesto de 18%\n",
            "El salario queda en: 16400.82\n",
            "True\n",
            "Buen día\n"
          ],
          "name": "stdout"
        }
      ]
    },
    {
      "cell_type": "markdown",
      "metadata": {
        "id": "FnK61pq6LR7W"
      },
      "source": [
        "P7"
      ]
    },
    {
      "cell_type": "code",
      "metadata": {
        "id": "-0WwqSFtJ7OL"
      },
      "source": [
        "\n",
        "print(\"Le damos la bienvenida, por favor, indíquenos su edad\")\n",
        "edad =int(input(\"edad:\"))\n",
        "if edad<4:\n",
        "      print(\"Su entrada es gratis\")\n",
        "      a=0\n",
        "elif edad<16:\n",
        "      print(\"Costo $50\")\n",
        "      a=50\n",
        "elif edad>16:\n",
        "      print(\"Costo $100\")\n",
        "      a=100\n",
        "print(\"Indique su ocupación:\")\n",
        "print(\"1)Estudiante\")\n",
        "print(\"2)Docente\")\n",
        "print(\"3)INAPAM\")\n",
        "oc=int(input(\"Indique su ocupación:\"))\n",
        "b=0\n",
        "if oc==1:\n",
        "      print(\"Se le aplica 10% de descuento\")\n",
        "      b=(a*0.1)\n",
        "elif c==2:\n",
        "      print(\"Se le aplica 30% de descuento\")\n",
        "      b=(a*0.3)\n",
        "elif c==3:\n",
        "      print(\"Se le aplica 50% de descuento\")\n",
        "      b=(a*0.5)\n",
        "else:\n",
        "        print(\"no aplica descuento\")\n",
        "        c=(a-b)\n",
        "        print(\"El total a pagar es:\", c)"
      ],
      "execution_count": null,
      "outputs": []
    },
    {
      "cell_type": "markdown",
      "metadata": {
        "id": "Z0CbA82sP_U_"
      },
      "source": [
        "P8"
      ]
    },
    {
      "cell_type": "code",
      "metadata": {
        "id": "VuDqHXnWQAMq",
        "outputId": "35f0852f-b900-401e-edee-3fc1d8feb910",
        "colab": {
          "base_uri": "https://localhost:8080/"
        }
      },
      "source": [
        "n=int(input(\"Introduce el num. de renglones\"))\n",
        "for i in range(1,n+1):\n",
        "    print(\"\")\n",
        "    for j in range(1,i+1):\n",
        "      print(\"*\",end=\"\")"
      ],
      "execution_count": 53,
      "outputs": [
        {
          "output_type": "stream",
          "text": [
            "Introduce el num. de renglones4\n",
            "\n",
            "*\n",
            "**\n",
            "***\n",
            "****"
          ],
          "name": "stdout"
        }
      ]
    },
    {
      "cell_type": "markdown",
      "metadata": {
        "id": "-9kNhvYdQYZb"
      },
      "source": [
        "P9"
      ]
    },
    {
      "cell_type": "code",
      "metadata": {
        "id": "pdHQba56QZIx"
      },
      "source": [
        "num=int(input(\"ingrese el número:\"))\n",
        "fact=1\n",
        "for i in range(num):\n",
        "  fact=fact*num\n",
        "  num-=1\n",
        "  print(\"El factorial es:\", fact)"
      ],
      "execution_count": null,
      "outputs": []
    },
    {
      "cell_type": "markdown",
      "metadata": {
        "id": "G4hj7AP7QZSi"
      },
      "source": [
        "P10"
      ]
    },
    {
      "cell_type": "code",
      "metadata": {
        "id": "QrMD1CkBQaZP"
      },
      "source": [
        "print(\"Ingresa el radio del círculo\")\n",
        "r=float(input())\n",
        "pi=3.1416\n",
        "A=(pi*(r*r))\n",
        "print(\"El área es:\",A)\n",
        "h=float(input(\"ingresa la altura del cilindro\"))\n",
        "V=A*h\n",
        "print(\"El volumen es:\",V)\n"
      ],
      "execution_count": null,
      "outputs": []
    }
  ]
}